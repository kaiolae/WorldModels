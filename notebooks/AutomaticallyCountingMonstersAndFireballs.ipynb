{
 "cells": [
  {
   "cell_type": "code",
   "execution_count": 1,
   "metadata": {},
   "outputs": [
    {
     "name": "stdout",
     "output_type": "stream",
     "text": [
      "/home/kaiolae/code/word_models_keras_test/WorldModels\n"
     ]
    }
   ],
   "source": [
    "#Loading an image\n",
    "import numpy as np\n",
    "import os\n",
    "import sys\n",
    "import matplotlib.pyplot as plt\n",
    "data = np.load(\"/mnt/data/doom_data_training/obs_data_doomrnn_0.npy\")\n",
    "one_image = data[9][154]\n",
    "plt.imshow(one_image)\n",
    "#plt.plot()\n",
    "#Adding WorldModels path to pythonpath\n",
    "nb_dir = os.path.split(os.getcwd())[0]\n",
    "print(nb_dir)\n",
    "if nb_dir not in sys.path:\n",
    "    sys.path.append(nb_dir)"
   ]
  },
  {
   "cell_type": "code",
   "execution_count": 33,
   "metadata": {},
   "outputs": [
    {
     "name": "stdout",
     "output_type": "stream",
     "text": [
      "3\n",
      "6 ,  217\n",
      "prev:  6 . current: 2\n",
      "6 ,  249\n",
      "prev:  2 . current: 7\n",
      "7 ,  396\n",
      "prev:  6 . current: 1\n",
      "11 ,  503\n",
      "prev:  7 . current: 3\n",
      "36 ,  793\n",
      "prev:  9 . current: 2\n",
      "36 ,  810\n",
      "prev:  5 . current: 9\n",
      "42 ,  693\n",
      "prev:  9 . current: 2\n",
      "47 ,  233\n",
      "prev:  4 . current: 0\n",
      "72 ,  269\n",
      "prev:  4 . current: 0\n",
      "73 ,  246\n",
      "prev:  5 . current: 1\n",
      "78 ,  127\n",
      "prev:  5 . current: 1\n",
      "86 ,  512\n",
      "prev:  7 . current: 2\n",
      "90 ,  344\n",
      "prev:  6 . current: 1\n",
      "98 ,  293\n",
      "prev:  3 . current: 7\n",
      "105 ,  577\n",
      "prev:  6 . current: 2\n",
      "127 ,  121\n",
      "prev:  5 . current: 1\n",
      "139 ,  184\n",
      "prev:  5 . current: 1\n",
      "142 ,  133\n",
      "prev:  5 . current: 1\n",
      "151 ,  358\n",
      "prev:  5 . current: 1\n",
      "155 ,  664\n",
      "prev:  8 . current: 3\n",
      "176 ,  316\n",
      "prev:  7 . current: 1\n",
      "179 ,  231\n",
      "prev:  5 . current: 1\n",
      "183 ,  141\n",
      "prev:  5 . current: 1\n",
      "189 ,  255\n",
      "prev:  5 . current: 1\n"
     ]
    },
    {
     "data": {
      "image/png": "[encoded data removed]",
      "text/plain": [
       "<Figure size 432x288 with 1 Axes>"
      ]
     },
     "metadata": {
      "needs_background": "light"
     },
     "output_type": "display_data"
    }
   ],
   "source": [
    "import count_monsters_and_balls\n",
    "from scipy import ndimage\n",
    "img = data[0][0]\n",
    "plt.imshow(img)\n",
    "img=img/256\n",
    "count, thresh = count_monsters_and_balls.count_monsters(img)\n",
    "print(count)\n",
    "plt.imshow(thresh)\n",
    "rcount = 0\n",
    "icount = 0\n",
    "for rollout in data:\n",
    "    icount=0\n",
    "    \n",
    "    prevcount = -1\n",
    "    for img in rollout:\n",
    "        img=img/256\n",
    "        c=count_monsters_and_balls.count_monsters(img)[0]\n",
    "        #print(rcount, \", \", icount)\n",
    "        #print(count_monsters_and_balls.count_monsters(img)[0])\n",
    "        \n",
    "        if prevcount!=-1 and abs(prevcount-c) > 3:\n",
    "            \n",
    "            print(rcount, \", \", icount)\n",
    "            print(\"prev: \", prevcount, \". current:\", c)\n",
    "        icount+=1\n",
    "        prevcount = c\n",
    "    rcount+=1"
   ]
  },
  {
   "cell_type": "code",
   "execution_count": 36,
   "metadata": {},
   "outputs": [
    {
     "data": {
      "text/plain": [
       "9"
      ]
     },
     "execution_count": 36,
     "metadata": {},
     "output_type": "execute_result"
    },
    {
     "data": {
      "image/png": "[encoded data removed]",
      "text/plain": [
       "<Figure size 432x288 with 1 Axes>"
      ]
     },
     "metadata": {
      "needs_background": "light"
     },
     "output_type": "display_data"
    }
   ],
   "source": [
    "#Good fig for showing ability: img=data[36][918]\n",
    "img=data[36][811]\n",
    "plt.imshow(img)\n",
    "img=img/256\n",
    "count_monsters_and_balls.count_monsters(img)[0]"
   ]
  },
  {
   "cell_type": "markdown",
   "metadata": {},
   "source": [
    "## Measuring if there is an explosion"
   ]
  },
  {
   "cell_type": "code",
   "execution_count": null,
   "metadata": {},
   "outputs": [],
   "source": [
    "#data[3][208] is a good example of before/after explosion\n",
    "FIREBALL_THRESHOLD = 0.65\n",
    "from skimage import io, filters, color, measure\n",
    "from scipy import ndimage\n",
    "one_image = data[3][208]\n",
    "plt.imshow(one_image)\n",
    "plt.axis('off')"
   ]
  },
  {
   "cell_type": "code",
   "execution_count": null,
   "metadata": {},
   "outputs": [],
   "source": [
    "#First, we take off the top half of the image, because only explosions spread this high.\n",
    "top_half = one_image[:28, :, :]\n",
    "plt.imshow(top_half)\n",
    "plt.axis('off')"
   ]
  },
  {
   "cell_type": "code",
   "execution_count": null,
   "metadata": {},
   "outputs": [],
   "source": [
    "top_half=one_image[:28,:,:]\n",
    "top_half = color.rgb2gray(top_half)\n",
    "thresholded_image = ndimage.binary_fill_holes(top_half>FIREBALL_THRESHOLD)\n",
    "\n",
    "\n",
    "plt.imshow(thresholded_image)\n",
    "plt.axis('off')"
   ]
  },
  {
   "cell_type": "markdown",
   "metadata": {},
   "source": [
    "## Measuring if there is a fireball"
   ]
  },
  {
   "cell_type": "code",
   "execution_count": null,
   "metadata": {},
   "outputs": [],
   "source": [
    "one_image = data[88][202]\n",
    "plt.imshow(one_image)\n",
    "plt.axis('off')"
   ]
  },
  {
   "cell_type": "code",
   "execution_count": null,
   "metadata": {},
   "outputs": [],
   "source": [
    "#Thresholding\n",
    "one_image=color.rgb2gray(one_image)\n",
    "thresholded_image = ndimage.binary_fill_holes(one_image>FIREBALL_THRESHOLD)\n",
    "\n",
    "\n",
    "plt.imshow(thresholded_image)\n",
    "plt.axis('off')\n",
    "\n",
    "object_labels = measure.label(thresholded_image)\n",
    "print(\"Number of connected objects: \", object_labels.max())"
   ]
  },
  {
   "cell_type": "markdown",
   "metadata": {},
   "source": [
    "## Counting Monsters"
   ]
  },
  {
   "cell_type": "code",
   "execution_count": 42,
   "metadata": {},
   "outputs": [
    {
     "data": {
      "text/plain": [
       "<matplotlib.image.AxesImage at 0x7f677c466d30>"
      ]
     },
     "execution_count": 42,
     "metadata": {},
     "output_type": "execute_result"
    },
    {
     "data": {
      "image/png": "[encoded data removed]",
      "text/plain": [
       "<Figure size 432x288 with 1 Axes>"
      ]
     },
     "metadata": {
      "needs_background": "light"
     },
     "output_type": "display_data"
    }
   ],
   "source": [
    "one_image = data[36][518]\n",
    "plt.imshow(one_image)"
   ]
  },
  {
   "cell_type": "code",
   "execution_count": 43,
   "metadata": {},
   "outputs": [
    {
     "data": {
      "text/plain": [
       "<matplotlib.image.AxesImage at 0x7f67bf7e35c0>"
      ]
     },
     "execution_count": 43,
     "metadata": {},
     "output_type": "execute_result"
    },
    {
     "data": {
      "image/png": "[encoded data removed]",
      "text/plain": [
       "<Figure size 432x288 with 1 Axes>"
      ]
     },
     "metadata": {
      "needs_background": "light"
     },
     "output_type": "display_data"
    }
   ],
   "source": [
    "one_image = one_image[28:32,:,:]\n",
    "one_image = one_image[:,:,1]#color.rgb2gray(one_image)\n",
    "plt.imshow(one_image)"
   ]
  },
  {
   "cell_type": "code",
   "execution_count": 44,
   "metadata": {},
   "outputs": [
    {
     "data": {
      "image/png": "[encoded data removed]",
      "text/plain": [
       "<Figure size 432x288 with 1 Axes>"
      ]
     },
     "metadata": {
      "needs_background": "light"
     },
     "output_type": "display_data"
    },
    {
     "ename": "NameError",
     "evalue": "name 'measure' is not defined",
     "output_type": "error",
     "traceback": [
      "\u001b[0;31m---------------------------------------------------------------------------\u001b[0m",
      "\u001b[0;31mNameError\u001b[0m                                 Traceback (most recent call last)",
      "\u001b[0;32m<ipython-input-44-9af7ced2934f>\u001b[0m in \u001b[0;36m<module>\u001b[0;34m\u001b[0m\n\u001b[1;32m      4\u001b[0m \u001b[0mplt\u001b[0m\u001b[0;34m.\u001b[0m\u001b[0mimshow\u001b[0m\u001b[0;34m(\u001b[0m\u001b[0mbinary_black\u001b[0m\u001b[0;34m,\u001b[0m \u001b[0mcmap\u001b[0m\u001b[0;34m=\u001b[0m\u001b[0;34m'gray'\u001b[0m\u001b[0;34m)\u001b[0m\u001b[0;34m\u001b[0m\u001b[0;34m\u001b[0m\u001b[0m\n\u001b[1;32m      5\u001b[0m \u001b[0mplt\u001b[0m\u001b[0;34m.\u001b[0m\u001b[0mshow\u001b[0m\u001b[0;34m(\u001b[0m\u001b[0;34m)\u001b[0m\u001b[0;34m\u001b[0m\u001b[0;34m\u001b[0m\u001b[0m\n\u001b[0;32m----> 6\u001b[0;31m \u001b[0mlabels\u001b[0m \u001b[0;34m=\u001b[0m \u001b[0mmeasure\u001b[0m\u001b[0;34m.\u001b[0m\u001b[0mlabel\u001b[0m\u001b[0;34m(\u001b[0m\u001b[0mbinary_black\u001b[0m\u001b[0;34m)\u001b[0m\u001b[0;34m\u001b[0m\u001b[0;34m\u001b[0m\u001b[0m\n\u001b[0m\u001b[1;32m      7\u001b[0m \u001b[0mprint\u001b[0m\u001b[0;34m(\u001b[0m\u001b[0;34m\"Counted monsters: \"\u001b[0m\u001b[0;34m,\u001b[0m \u001b[0mlabels\u001b[0m\u001b[0;34m.\u001b[0m\u001b[0mmax\u001b[0m\u001b[0;34m(\u001b[0m\u001b[0;34m)\u001b[0m\u001b[0;34m)\u001b[0m\u001b[0;34m\u001b[0m\u001b[0;34m\u001b[0m\u001b[0m\n",
      "\u001b[0;31mNameError\u001b[0m: name 'measure' is not defined"
     ]
    }
   ],
   "source": [
    "#Threshold image indicates that monsters are probably below 0.22. Testing that as a negative threshold.\n",
    "neg_thresh = 0.2*256 #Found by experimentation.\n",
    "binary_black = ndimage.binary_fill_holes(one_image<neg_thresh)\n",
    "plt.imshow(binary_black, cmap='gray')\n",
    "plt.show()\n",
    "labels = measure.label(binary_black)\n",
    "print(\"Counted monsters: \", labels.max())"
   ]
  },
  {
   "cell_type": "code",
   "execution_count": null,
   "metadata": {},
   "outputs": [],
   "source": [
    "#Counting monsters\n",
    "monsters = ndimage.binary_fill_holes(binary_black > 0.5)\n",
    "plt.imshow(monsters, cmap='gray')\n",
    "labels = measure.label(monsters)\n",
    "print(labels.max())"
   ]
  },
  {
   "cell_type": "code",
   "execution_count": null,
   "metadata": {},
   "outputs": [],
   "source": [
    "#Counting fireballs\n",
    "balls = ndimage.binary_fill_holes(binary > 0.5)\n",
    "plt.imshow(balls, cmap='gray')\n",
    "ball_labels = measure.label(balls)\n",
    "print(ball_labels.max())"
   ]
  },
  {
   "cell_type": "code",
   "execution_count": null,
   "metadata": {},
   "outputs": [],
   "source": [
    "#Testing if there is a wall. \n",
    "val = 0.39 #A threshold where walls are above, rest of scene (except fireballs) are typically below.\n",
    "binary = im>val\n",
    "#plt.imshow(binary, cmap='gray')\n",
    "print(im.shape)\n",
    "left_img = im[:, :32]\n",
    "right_img = im[:, 32:]\n",
    "left_img_binary = left_img>val\n",
    "right_img_binary = right_img>val\n",
    "left_img_above_thresh = np.count_nonzero(left_img_binary)\n",
    "right_img_above_thresh = np.count_nonzero(right_img_binary)\n",
    "plt.imshow(left_img)\n",
    "plt.show()"
   ]
  },
  {
   "cell_type": "code",
   "execution_count": null,
   "metadata": {},
   "outputs": [],
   "source": [
    "#Testing my external library\n",
    "from count_monsters_and_balls import count_monsters, count_fireballs\n",
    "print(count_fireballs(one_image))\n",
    "print(count_monsters(one_image))"
   ]
  },
  {
   "cell_type": "markdown",
   "metadata": {},
   "source": [
    "## Classifying if we are in explosion-mode or not"
   ]
  },
  {
   "cell_type": "code",
   "execution_count": null,
   "metadata": {},
   "outputs": [],
   "source": [
    "#Loading an image\n",
    "import numpy as np\n",
    "import matplotlib.pyplot as plt\n",
    "data = np.load(\"/home/kaiolae/code/word_models_keras_test/WorldModels/data_small_episodes/obs_data_doomrnn_1.npy\")\n",
    "explosion_image = data[9][162] #Image 22 from first rollout\n",
    "plt.imshow(explosion_image) \n",
    "#plt.plot()\n"
   ]
  },
  {
   "cell_type": "code",
   "execution_count": null,
   "metadata": {},
   "outputs": [],
   "source": [
    "# Measure Creativity by counting objects.\n",
    "#Idea: Threshold the image. Count fireballs. Then threshold the INVERSE image, count monsters.\n",
    "from skimage import io, filters, color, measure\n",
    "from scipy import ndimage\n",
    "import matplotlib.pyplot as plt\n",
    "\n",
    "im = color.rgb2gray(explosion_image)\n",
    "val = filters.threshold_otsu(im)\n",
    "print(val)\n",
    "plt.hist(im.ravel(), bins=256)\n",
    "plt.axvline(val, color='r') #Showing the image histogram and the adaptive threshold\n",
    "plt.show()"
   ]
  },
  {
   "cell_type": "code",
   "execution_count": null,
   "metadata": {},
   "outputs": [],
   "source": [
    "#As seen above, almost all pixels are below 0.4 Testing that as threshold. It captures all fireballs.\n",
    "val = 0.4\n",
    "binary = im>val\n",
    "#drops = ndimage.binary_fill_holes(im < val)\n",
    "#plt.imshow(drops, cmap='gray')\n",
    "plt.imshow(binary, cmap='gray')\n",
    "plt.show()"
   ]
  },
  {
   "cell_type": "code",
   "execution_count": null,
   "metadata": {},
   "outputs": [],
   "source": [
    "total_num_pixels = 64*64\n",
    "ten_percent_of_pixels = 0.1*total_num_pixels\n",
    "np.sum(binary)\n",
    "print(ten_percent_of_pixels)\n",
    "print(\"Sum binary: \", np.sum(binary))\n",
    "if np.sum(binary) > ten_percent_of_pixels:\n",
    "    print(\"We have an explosion\")"
   ]
  },
  {
   "cell_type": "code",
   "execution_count": null,
   "metadata": {},
   "outputs": [],
   "source": [
    "import os\n",
    "import sys\n",
    "#Adding WorldModels path to pythonpath\n",
    "nb_dir = os.path.split(os.getcwd())[0]\n",
    "print(nb_dir)\n",
    "if nb_dir not in sys.path:\n",
    "    sys.path.append(nb_dir)\n",
    "\n",
    "#Testing the implemenetion of explosion-detector\n",
    "from count_monsters_and_balls import is_there_a_big_explosion\n",
    "#print(is_there_a_big_explosion(one_image, 0.5))\n",
    "print(is_there_a_big_explosion(explosion_image,0.5))\n",
    "plt.imshow(explosion_image)\n"
   ]
  },
  {
   "cell_type": "code",
   "execution_count": null,
   "metadata": {},
   "outputs": [],
   "source": [
    "from test_creativity_stability import count_events_from_images\n",
    "image_data = count_events_from_images(data[9])\n",
    "print(\"Num img without explosion: \", len(image_data[\"without_explosion\"]))\n",
    "print(\"Num img with explosion: \", len(image_data[\"with_explosion\"]))"
   ]
  },
  {
   "cell_type": "code",
   "execution_count": null,
   "metadata": {},
   "outputs": [],
   "source": [
    "print(\"Images with explosion: \")\n",
    "for img in image_data[\"with_explosion\"]:\n",
    "    plt.figure()\n",
    "    plt.imshow(img)"
   ]
  },
  {
   "cell_type": "code",
   "execution_count": null,
   "metadata": {},
   "outputs": [],
   "source": [
    "print(\"Images without explosion: \")\n",
    "for img in image_data[\"without_explosion\"]:\n",
    "    plt.figure()\n",
    "    plt.imshow(img)"
   ]
  },
  {
   "cell_type": "code",
   "execution_count": null,
   "metadata": {},
   "outputs": [],
   "source": [
    "#Testing automatic wall detection\n",
    "#Wall has gray-color near 0.46. Floor/ceiling is near 0.36. Setting threshold 0.41.\n",
    "img_without_wall = data[9][0] #Image 22 from first rollout\n",
    "plt.imshow(img_without_wall)\n",
    "im = color.rgb2gray(img_without_wall)\n",
    "print(img_without_wall[0,0,0])"
   ]
  },
  {
   "cell_type": "code",
   "execution_count": null,
   "metadata": {},
   "outputs": [],
   "source": [
    "#Testing automatic wall detection\n",
    "#Wall has gray-color near 0.46. Floor/ceiling is near 0.36. Setting threshold 0.41.\n",
    "img_with_left_wall = data[3][208] #Image 22 from first rollout\n",
    "plt.imshow(img_with_left_wall)\n",
    "im = color.rgb2gray(img_with_left_wall)\n",
    "print(img_with_left_wall.shape)\n",
    "print(img_with_left_wall[0,-1,0])"
   ]
  },
  {
   "cell_type": "code",
   "execution_count": null,
   "metadata": {},
   "outputs": [],
   "source": [
    "from count_monsters_and_balls import is_there_a_lefthand_wall, is_there_a_righthand_wall\n",
    "print(is_there_a_lefthand_wall(img_with_left_wall, 95))\n",
    "print(is_there_a_righthand_wall(img_with_left_wall, 95))"
   ]
  },
  {
   "cell_type": "code",
   "execution_count": null,
   "metadata": {},
   "outputs": [],
   "source": [
    "left_wall_pictures = []\n",
    "right_wall_pictures = []\n",
    "no_wall_pictures = []\n",
    "wall_threshold = 100\n",
    "for img in data[7]: #9\n",
    "    if is_there_a_lefthand_wall(img, wall_threshold):\n",
    "        left_wall_pictures.append(img)\n",
    "    elif is_there_a_righthand_wall(img, wall_threshold):\n",
    "        right_wall_pictures.append(img)\n",
    "    else:\n",
    "        no_wall_pictures.append(img)\n",
    "    \n",
    "plot_movie_mp4(no_wall_pictures)"
   ]
  },
  {
   "cell_type": "code",
   "execution_count": null,
   "metadata": {},
   "outputs": [],
   "source": [
    "plot_movie_mp4(left_wall_pictures)"
   ]
  },
  {
   "cell_type": "code",
   "execution_count": null,
   "metadata": {},
   "outputs": [],
   "source": [
    "plot_movie_mp4(right_wall_pictures)"
   ]
  },
  {
   "cell_type": "code",
   "execution_count": null,
   "metadata": {},
   "outputs": [],
   "source": []
  }
 ],
 "metadata": {
  "kernelspec": {
   "display_name": "world_models_new",
   "language": "python",
   "name": "world_models_new"
  },
  "language_info": {
   "codemirror_mode": {
    "name": "ipython",
    "version": 3
   },
   "file_extension": ".py",
   "mimetype": "text/x-python",
   "name": "python",
   "nbconvert_exporter": "python",
   "pygments_lexer": "ipython3",
   "version": "3.6.6"
  }
 },
 "nbformat": 4,
 "nbformat_minor": 2
}
