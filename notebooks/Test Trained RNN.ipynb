{
 "cells": [
  {
   "cell_type": "code",
   "execution_count": 1,
   "metadata": {},
   "outputs": [
    {
     "name": "stderr",
     "output_type": "stream",
     "text": [
      "Using TensorFlow backend.\n"
     ]
    },
    {
     "name": "stdout",
     "output_type": "stream",
     "text": [
      "/home/kaiolae/code/word_models_keras_test/WorldModels\n"
     ]
    }
   ],
   "source": [
    "import keras\n",
    "import tensorflow as tf\n",
    "\n",
    "tf_config = tf.ConfigProto()\n",
    "tf_config.gpu_options.allow_growth = True\n",
    "\n",
    "#Importing the VAE and RNN.\n",
    "import os\n",
    "import sys\n",
    "#Adding WorldModels path to pythonpath\n",
    "nb_dir = os.path.split(os.getcwd())[0]\n",
    "print(nb_dir)\n",
    "if nb_dir not in sys.path:\n",
    "    sys.path.append(nb_dir)"
   ]
  },
  {
   "cell_type": "code",
   "execution_count": null,
   "metadata": {},
   "outputs": [],
   "source": [
    "\n",
    "import analyze_rnn_predictions\n",
    "%load_ext autoreload\n",
    "%autoreload 2 #If we want to automatically load external modules as they are updated."
   ]
  },
  {
   "cell_type": "code",
   "execution_count": null,
   "metadata": {},
   "outputs": [],
   "source": [
    "#To access gym\n",
    "import sys\n",
    "sys.path.append('/home/kaiolae/.virtualenvs/worldmodels/lib/python3.5/site-packages')\n",
    "import os"
   ]
  },
  {
   "cell_type": "code",
   "execution_count": null,
   "metadata": {},
   "outputs": [],
   "source": [
    "import fnmatch\n",
    "def get_all_models():\n",
    "    all_models = {} #Dict of all models, with num mixtures as key\n",
    "    for folder in os.listdir('../'):\n",
    "        \n",
    "        if fnmatch.fnmatch(folder, 'trained_sequential_rnn_*') :\n",
    "            mixtures_start_index = folder.find('rnn_')+4\n",
    "            mixtures_end_index = folder.find('mixtures')\n",
    "            num_mixtures = int(folder[mixtures_start_index:mixtures_end_index])\n",
    "            if num_mixtures in all_models.keys():\n",
    "                all_models[num_mixtures].append(\"../\"+folder)\n",
    "            else:\n",
    "                all_models[num_mixtures] = [\"../\"+folder]\n",
    "            \n",
    "    return all_models\n",
    "            \n",
    "print(get_all_models())"
   ]
  },
  {
   "cell_type": "code",
   "execution_count": null,
   "metadata": {},
   "outputs": [],
   "source": [
    "import matplotlib.pyplot as plt\n",
    "from matplotlib import animation\n",
    "from IPython.display import display, HTML\n",
    "\n",
    "\n",
    "def plot_movie_mp4(image_array):\n",
    "    dpi = 2.0\n",
    "    xpixels, ypixels = image_array[0].shape[0], image_array[0].shape[1]\n",
    "    fig = plt.figure(figsize=(ypixels/dpi, xpixels/dpi), dpi=dpi)\n",
    "    #fig = plt.figure(figsize=(1,1), dpi=dpi)\n",
    "    im = plt.figimage(image_array[0])\n",
    "\n",
    "    def animate(i):\n",
    "        im.set_array(image_array[i])\n",
    "        return (im,)\n",
    "\n",
    "    anim = animation.FuncAnimation(fig, animate, frames=len(image_array))\n",
    "    display(HTML(anim.to_html5_video()))"
   ]
  },
  {
   "cell_type": "code",
   "execution_count": null,
   "metadata": {},
   "outputs": [],
   "source": [
    "from collections import namedtuple\n",
    "\n",
    "rnn_analyzers = {}\n",
    "for key, val in get_all_models().items():\n",
    "    rnn_analyzers[key] = []\n",
    "    for model in val:\n",
    "        if \"run10\" in model or \"run5\" in model or \"run15\" in model:\n",
    "            continue #TODO remove\n",
    "        print(\"Loading model: \", model)\n",
    "        new_analyzer = analyze_rnn_predictions.RNNAnalyzer(model+\"/rnn_trained_model.h5\", key, 0.2) #TODO Note, I previously used temp=0.1 - Which Ha noted was so low that we got mode collapse.\n",
    "        rnn_analyzers[key].append(new_analyzer)\n",
    "print(\"rnn analyzers: \", rnn_analyzers)"
   ]
  },
  {
   "cell_type": "code",
   "execution_count": null,
   "metadata": {},
   "outputs": [],
   "source": [
    "#Get a start video\n",
    "#Getting data to feed into the VAE and RNN\n",
    "import numpy as np\n",
    "import os\n",
    "# load preprocessed data\n",
    "training_data = np.load(os.path.join(\"../rnn_data_64_dim\", \"rnn_training_data.npz\"))\n",
    "action_data = training_data['action']\n",
    "observation_data = training_data['latent']\n",
    "\n",
    "episode_num = 16\n",
    "single_action_sequence = action_data[episode_num]\n",
    "single_latent_sequence = observation_data[episode_num]\n",
    "print(\"Actions length: \", len(single_action_sequence))\n",
    "print(\"Latent vectors length: \", len(single_latent_sequence))\n",
    "num_frames = len(single_latent_sequence)\n",
    "\n",
    "\n",
    "\n",
    "#Decode all 100 vectors, store as video\n",
    "#Visualize video."
   ]
  },
  {
   "cell_type": "code",
   "execution_count": null,
   "metadata": {},
   "outputs": [],
   "source": [
    "#Decode a sequence with the VAE and visualize it\n",
    "def decode_and_visualize(latent_vector_sequence, rnn_analyzer):\n",
    "    plot_movie_mp4(rnn_analyzer.decode_with_vae(latent_vector_sequence))"
   ]
  },
  {
   "cell_type": "markdown",
   "metadata": {},
   "source": [
    "### Visualizing one sequence of latent vectors from the training data"
   ]
  },
  {
   "cell_type": "code",
   "execution_count": null,
   "metadata": {},
   "outputs": [],
   "source": [
    "#From the actual sampled images. All loss here is due to VAE.\n",
    "rnn1_analyzer = rnn_analyzers[2][0]\n",
    "decode_and_visualize(single_latent_sequence, rnn1_analyzer)"
   ]
  },
  {
   "cell_type": "code",
   "execution_count": null,
   "metadata": {},
   "outputs": [],
   "source": [
    "#Generating a dream.\n",
    "action = 0 #Consider random action. Or, when predicting step by step, use the actual action\n",
    "dreamed_zs1 = []\n",
    "dreamed_z, mixture_weights = rnn1_analyzer.predict_one_step(action, previous_z=single_latent_sequence[0])\n",
    "dreamed_zs1.append(dreamed_z)\n",
    "print(dreamed_z)\n",
    "for i in range(100):\n",
    "    dreamed_z, mixture_weights = rnn1_analyzer.predict_one_step(action)\n",
    "    dreamed_zs1.append(dreamed_z)\n",
    "    "
   ]
  },
  {
   "cell_type": "code",
   "execution_count": null,
   "metadata": {},
   "outputs": [],
   "source": [
    "#Visualizing the dream\n",
    "decode_and_visualize(dreamed_zs1, rnn1_analyzer)"
   ]
  },
  {
   "cell_type": "code",
   "execution_count": null,
   "metadata": {},
   "outputs": [],
   "source": [
    "#Generating a dream with 16 mixtures\n",
    "action = 0 #Consider random action. Or, when predicting step by step, use the actual action\n",
    "dreamed_zs16 = []\n",
    "dreamed_z = rnn16_analyzer.predict_one_step(action, previous_z=single_latent_sequence[0])\n",
    "dreamed_zs16.append(dreamed_z)\n",
    "for i in range(100):\n",
    "    dreamed_zs16.append(rnn16_analyzer.predict_one_step(action))\n",
    "#Visualizing the dream\n",
    "decode_and_visualize(dreamed_zs16, rnn16_analyzer)"
   ]
  },
  {
   "cell_type": "markdown",
   "metadata": {},
   "source": [
    "# "
   ]
  },
  {
   "cell_type": "code",
   "execution_count": null,
   "metadata": {},
   "outputs": [],
   "source": [
    "vae = rnn_analyzers[2][0].vae\n",
    "print(single_latent_sequence.shape)\n",
    "vae.decoder.predict(single_latent_sequence)"
   ]
  },
  {
   "cell_type": "code",
   "execution_count": null,
   "metadata": {
    "scrolled": false
   },
   "outputs": [],
   "source": [
    "#TODO Make sure to \"warm up\" the LSTM with many inputs before recording.\"\n",
    "\n",
    "#TODO Without reset, I got the expected result. But with reset, differences between RNNs disappear.\n",
    "#Do differences for some reason only appear after a (large) number of iterations??\n",
    "#One solution might be to run 1000 timesteps, to ensure we get into the internal state that\n",
    "#exposes differences.\n",
    "#Also, randomizing initial_z could help.\n",
    "#Yes, longer sequences seemed to work.\n",
    "\n",
    "#TODO A better measure of creativity is differences between consecutive frames. Did a ball appear/disappear, etc?\n",
    "#Test plotting that with \"fireball_delta\"/monster_delta\n",
    "\n",
    "import pandas as pd\n",
    "from test_creativity_stability import count_events_on_trained_rnn, count_appearances_and_disappearances\n",
    "#Comparing performance of different models\n",
    "initial_z = single_latent_sequence[0]\n",
    "EPISODE_LENGTHS = 100\n",
    "zero_actions = [0 for i in range(EPISODE_LENGTHS)]\n",
    "\n",
    "#TODO These should both instead reflect the difference from initial_z, since we want to\n",
    "#measure creativity.\n",
    "\n",
    "#Collecting data for all treatments\n",
    "dream_data = []\n",
    "NUM_STATISTICAL_TESTS = 1\n",
    "\n",
    "for i in range(NUM_STATISTICAL_TESTS):\n",
    "    print(i)\n",
    "    for num_mixtures, rnn_model_list in rnn_analyzers.items():\n",
    "        \n",
    "        for rnn_model in rnn_model_list:\n",
    "            print(\"analyzing \", num_mixtures)            \n",
    "            rnn_model._reset()\n",
    "            rnn_model.warm_up_lstm(single_action_sequence, single_latent_sequence)\n",
    "            e = count_events_on_trained_rnn(rnn_model.vae, rnn_model, initial_z, zero_actions, EPISODE_LENGTHS)\n",
    "            d = count_appearances_and_disappearances(rnn_model.vae, rnn_model, initial_z, zero_actions, EPISODE_LENGTHS)\n",
    "            combined_dict = {**e, **d}\n",
    "            combined_dict[\"num_mixtures\"] = num_mixtures\n",
    "            dream_data.append(combined_dict)\n",
    "            \n",
    "#Turning dream-data entries into dataframes, one for each treatment\n",
    "dream_dataframes = pd.DataFrame(dream_data)\n",
    "print(dream_dataframes)\n",
    "\n",
    "#TODO Something is wrong in my measurement of fireballs delta. It shouldn't be possible that it's bigger than\n",
    "#num_fireballs.\n",
    "#TODO should be easy to dump to file also now.\n",
    "#At some point, I should split into a generate-and-dump script (this), and a load-and-analyze script.\n",
    "#dream_\n",
    "\n",
    "#TODO Not easy to see any clear effects of modifying number of mixtures."
   ]
  },
  {
   "cell_type": "code",
   "execution_count": null,
   "metadata": {},
   "outputs": [],
   "source": [
    "for num_mixtures in fireballs_dreamed.keys():\n",
    "    fireball_dreams = fireballs_dreamed[num_mixtures]\n",
    "    print(\"avg fireballs for \", num_mixtures, \": \", sum(fireball_dreams)/float(len(fireball_dreams)))\n",
    "    monster_dreams = monsters_dreamed[num_mixtures]"
   ]
  },
  {
   "cell_type": "code",
   "execution_count": null,
   "metadata": {},
   "outputs": [],
   "source": [
    "print(fb1)"
   ]
  },
  {
   "cell_type": "code",
   "execution_count": null,
   "metadata": {},
   "outputs": [],
   "source": [
    "#Testing differences between real and predicted images. Rather than dreaming up many steps ahead, we here\n",
    "#Dream 1 step ahead, and compare to what actually happened. Tests stability of the prediction.\n",
    "errors = [] #With 1 entry for each model, showing its parameters and results\n",
    "initial_z = single_latent_sequence[0]\n",
    "\n",
    "NUM_STATISTICAL_TESTS = 1\n",
    "from test_creativity_stability import count_differences_between_reality_and_prediction\n",
    "\n",
    "print(single_latent_sequence.shape)\n",
    "#TODO Is this short sequence hiding differences? Making a fake long sequence by concatenating.\n",
    "extended_latent_sequence = []\n",
    "for i in range(10):\n",
    "    for latent in single_latent_sequence:\n",
    "        extended_latent_sequence.append(latent)\n",
    "extended_latent_sequence = np.array(extended_latent_sequence)\n",
    "#padded_action_sequence = np.append(single_action_sequence, 0)\n",
    "extended_actions = np.repeat(single_action_sequence, 10)\n",
    "\n",
    "print(extended_actions.shape)\n",
    "print(extended_latent_sequence.shape)\n",
    "\n",
    "for i in range(NUM_STATISTICAL_TESTS):\n",
    "    for num_mixtures, rnn_model_list in rnn_analyzers.items():\n",
    "        for rnn_model in rnn_model_list:      \n",
    "            print(\"Analyzing \", rnn_model)\n",
    "            rnn_model._reset(initial_z)\n",
    "            e = count_differences_between_reality_and_prediction(rnn_model.vae, rnn_model, extended_latent_sequence, extended_actions)\n",
    "            e['num_mixtures'] = num_mixtures\n",
    "            errors.append(e)\n",
    "            \n",
    "#Turning entries into dataframes, one for each treatment\n",
    "error_dataframes = pd.DataFrame(errors)\n",
    "print(error_dataframes)\n"
   ]
  },
  {
   "cell_type": "code",
   "execution_count": null,
   "metadata": {},
   "outputs": [],
   "source": [
    "for num_mixtures in fireballs_dreamed.keys():\n",
    "    err = errors[num_mixtures]\n",
    "    print(\"avg errors for \", num_mixtures, \": \", sum(err)/float(len(err)))\n",
    "\n",
    "#Preliminary conclusion: Many mixtures (8/16) give more creativity, being able to \"imagine\" more fireballs,\n",
    "#but also more inaccuracies, by imagining fireballs that shouldnt be there."
   ]
  },
  {
   "cell_type": "code",
   "execution_count": null,
   "metadata": {},
   "outputs": [],
   "source": [
    "import matplotlib.pyplot as plt\n",
    "import seaborn as sns\n",
    "import pandas as pd\n",
    "#print(sns.load)\n",
    "g=sns.boxplot(x=\"num_mixtures\", y=\"num_fireballs\", data=dream_dataframes)\n",
    "g.set(ylim=(None, 1000))\n",
    "sns.despine()\n",
    "#plt.show()\n",
    "\n",
    "#Plotting fireballs per episode"
   ]
  },
  {
   "cell_type": "code",
   "execution_count": null,
   "metadata": {},
   "outputs": [],
   "source": [
    "sns.boxenplot(x=\"num_mixtures\", y=\"fireball_delta\", data=dream_dataframes)\n",
    "sns.despine()"
   ]
  },
  {
   "cell_type": "code",
   "execution_count": null,
   "metadata": {},
   "outputs": [],
   "source": [
    "sns.boxenplot(x=\"num_mixtures\", y=\"imagined_fireballs\", data=error_dataframes)\n",
    "sns.despine()"
   ]
  },
  {
   "cell_type": "code",
   "execution_count": null,
   "metadata": {},
   "outputs": [],
   "source": [
    "sns.boxenplot(x=\"num_mixtures\", y=\"imagined_monsters\", data=error_dataframes)\n",
    "sns.despine()"
   ]
  },
  {
   "cell_type": "code",
   "execution_count": null,
   "metadata": {},
   "outputs": [],
   "source": [
    "sns.boxenplot(x=\"num_mixtures\", y=\"missing_monsters\", data=error_dataframes)\n",
    "sns.despine() #TODO Seems to be no disadvantage to being creative here - 16 gives low errors. Maybe if I let it dream for more frames?"
   ]
  },
  {
   "cell_type": "code",
   "execution_count": null,
   "metadata": {},
   "outputs": [],
   "source": [
    "sns.boxenplot(x=\"num_mixtures\", y=\"missing_fireballs\", data=error_dataframes)\n",
    "sns.despine()"
   ]
  },
  {
   "cell_type": "code",
   "execution_count": null,
   "metadata": {},
   "outputs": [],
   "source": [
    "#Plotting monsters per episode\n",
    "#print(sns.load)\n",
    "monsters_data=[]\n",
    "for error_dataframes\n",
    "monsters_data = np.array([m1, m4, m8, m16])\n",
    "monsters_data = pd.DataFrame(monsters_data.T)\n",
    "monsters_data.columns = ['1', '4', '8', '16']\n",
    "\n",
    "sns.boxenplot(data=monsters_data, palette='Blues')\n",
    "sns.despine()\n",
    "#plt.show()\n",
    "\n",
    "boxplot_data.describe()"
   ]
  },
  {
   "cell_type": "code",
   "execution_count": null,
   "metadata": {},
   "outputs": [],
   "source": [
    "#Statistical test\n",
    "from scipy.stats import mannwhitneyu\n",
    "print(\"statistical difference in fireballs with 1 vs 4 mixtures\")\n",
    "print(mannwhitneyu(fb1, fb4))\n",
    "print(\"statistical difference in fireballs with 4 vs 16 mixtures\")\n",
    "print(mannwhitneyu(fb4, fb16))"
   ]
  },
  {
   "cell_type": "code",
   "execution_count": null,
   "metadata": {},
   "outputs": [],
   "source": [
    "#Missing fireballs\n",
    "missing_fireballs_data = np.array([mf1, mf4, mf8, mf16])\n",
    "missing_fireballs_data = pd.DataFrame(missing_fireballs_data.T)\n",
    "missing_fireballs_data.columns = ['1', '4', '8', '16']\n",
    "sns.boxenplot(data=missing_fireballs_data)\n"
   ]
  },
  {
   "cell_type": "code",
   "execution_count": null,
   "metadata": {},
   "outputs": [],
   "source": [
    "#Imagined fireballs\n",
    "imagined_fireballs_data = np.array([if1, if4, if8, if16])\n",
    "imagined_fireballs_data = pd.DataFrame(imagined_fireballs_data.T)\n",
    "imagined_fireballs_data.columns = ['1', '4', '8', '16']\n",
    "sns.boxenplot(data=imagined_fireballs_data)"
   ]
  },
  {
   "cell_type": "code",
   "execution_count": null,
   "metadata": {},
   "outputs": [],
   "source": [
    "#Total prediction errors\n",
    "prediction_errors = np.array([errors1, errors4, errors8, errors16])\n",
    "prediction_errors_data = pd.DataFrame(prediction_errors.T)\n",
    "prediction_errors_data.columns = ['1', '4', '8', '16']\n",
    "sns.boxenplot(data=prediction_errors_data)"
   ]
  },
  {
   "cell_type": "code",
   "execution_count": null,
   "metadata": {},
   "outputs": [],
   "source": [
    "#Making a \"pareto plot\" of creativity vs precision\n",
    "#TODO Change my measurements, to measure these two on the same rollouts.\n",
    "#TODO Each datapoint should represent a single model - I need to run multiple trainings of each model.\n",
    "creativity_precision_data=[] #Tuples (treatment, creativity, precision)\n",
    "all_precision_data = [errors1, errors4, errors8, errors16] #TODO Replace with more complete data\n",
    "all_creativity_data = [fb1, fb4, fb8, fb16]\n",
    "creativity_prediction_data_summed=[]\n",
    "for treatment_counter in range(len(all_precision_data)):\n",
    "    treatment_precision = all_precision_data[treatment_counter]\n",
    "    treatment_creativity = all_creativity_data[treatment_counter]\n",
    "    current_treatment_summed=[0, 0]\n",
    "    for i in range(len(treatment_precision)):\n",
    "        creativity_precision_data.append([\"Treatment\"+str(treatment_counter), treatment_precision[i], treatment_creativity[i]])\n",
    "        current_treatment_summed[0]=current_treatment_summed[0]+treatment_precision[i]\n",
    "        current_treatment_summed[1]=current_treatment_summed[1]+treatment_creativity[i]\n",
    "    creativity_prediction_data_summed.append(current_treatment_summed)\n",
    "print(creativity_precision_data)"
   ]
  },
  {
   "cell_type": "code",
   "execution_count": null,
   "metadata": {},
   "outputs": [],
   "source": [
    "#TODO May become quite interesting with more data points.\n",
    "creativity_precision_data_summed = np.array(creativity_precision_data_summed)\n",
    "print(creativity_precision_data_summed)\n",
    "creativity_precision_dataframe = pd.DataFrame({\"Treatment\":[\"1\",\"4\",\"8\",\"16\"],\n",
    "                                               \"precision-error\":creativity_precision_data_summed[:,0],\n",
    "                                               \"creativity\":creativity_precision_data_summed[:,1]})\n",
    "sns.scatterplot(x=\"precision-error\", y=\"creativity\", data=creativity_precision_dataframe, style=\"Treatment\")"
   ]
  },
  {
   "cell_type": "code",
   "execution_count": null,
   "metadata": {},
   "outputs": [],
   "source": [
    "\n",
    "creativity_precision_data=np.array(creativity_precision_data)\n",
    "creativity_precision_dataframe = pd.DataFrame({\"Treatment\":creativity_precision_data[:,0],\n",
    "                                               \"precision-error\":creativity_precision_data[:,1],\n",
    "                                               \"creativity\":creativity_precision_data[:,2]})\n",
    "creativity_precision_dataframe = creativity_precision_dataframe.apply(pd.to_numeric, errors='ignore')\n",
    "print(creativity_precision_dataframe.dtypes)\n",
    "print(creativity_precision_dataframe)\n",
    "sns.scatterplot(x=\"creativity\", y=\"precision-error\", data=creativity_precision_dataframe, style=\"Treatment\")"
   ]
  },
  {
   "cell_type": "code",
   "execution_count": null,
   "metadata": {},
   "outputs": [],
   "source": [
    "tips = sns.load_dataset(\"tips\")\n",
    "print(tips)\n",
    "sns.scatterplot(x=\"tip\", y=\"total_bill\", data=tips)"
   ]
  },
  {
   "cell_type": "code",
   "execution_count": null,
   "metadata": {},
   "outputs": [],
   "source": []
  }
 ],
 "metadata": {
  "kernelspec": {
   "display_name": "world_models_cpu",
   "language": "python",
   "name": "world_models_cpu"
  },
  "language_info": {
   "codemirror_mode": {
    "name": "ipython",
    "version": 3
   },
   "file_extension": ".py",
   "mimetype": "text/x-python",
   "name": "python",
   "nbconvert_exporter": "python",
   "pygments_lexer": "ipython3",
   "version": "3.6.6"
  }
 },
 "nbformat": 4,
 "nbformat_minor": 2
}
