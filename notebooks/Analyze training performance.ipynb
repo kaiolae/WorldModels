{
 "cells": [
  {
   "cell_type": "code",
   "execution_count": 31,
   "metadata": {},
   "outputs": [
    {
     "name": "stdout",
     "output_type": "stream",
     "text": [
      "/home/kaiolae/code/word_models_keras_test/WorldModels\n"
     ]
    }
   ],
   "source": [
    "import keras\n",
    "import tensorflow as tf\n",
    "\n",
    "tf_config = tf.ConfigProto()\n",
    "tf_config.gpu_options.allow_growth = True\n",
    "\n",
    "#Importing the VAE and RNN.\n",
    "import os\n",
    "import sys\n",
    "#Adding WorldModels path to pythonpath\n",
    "nb_dir = os.path.split(os.getcwd())[0]\n",
    "print(nb_dir)\n",
    "if nb_dir not in sys.path:\n",
    "    sys.path.append(nb_dir)"
   ]
  },
  {
   "cell_type": "code",
   "execution_count": 40,
   "metadata": {},
   "outputs": [
    {
     "name": "stdout",
     "output_type": "stream",
     "text": [
      "{2: ['../nov16_rescaled_inputs/trained_sequential_rnn_2mixtures_run5', '../nov16_rescaled_inputs/trained_sequential_rnn_2mixtures_run3', '../nov16_rescaled_inputs/trained_sequential_rnn_2mixtures_run2', '../nov16_rescaled_inputs/trained_sequential_rnn_2mixtures_run4', '../nov16_rescaled_inputs/trained_sequential_rnn_2mixtures_run1'], 1: ['../nov16_rescaled_inputs/trained_sequential_rnn_1mixtures_run5', '../nov16_rescaled_inputs/trained_sequential_rnn_1mixtures_run2', '../nov16_rescaled_inputs/trained_sequential_rnn_1mixtures_run1', '../nov16_rescaled_inputs/trained_sequential_rnn_1mixtures_run3', '../nov16_rescaled_inputs/trained_sequential_rnn_1mixtures_run4'], 16: ['../nov16_rescaled_inputs/trained_sequential_rnn_16mixtures_run4', '../nov16_rescaled_inputs/trained_sequential_rnn_16mixtures_run2', '../nov16_rescaled_inputs/trained_sequential_rnn_16mixtures_run5', '../nov16_rescaled_inputs/trained_sequential_rnn_16mixtures_run3', '../nov16_rescaled_inputs/trained_sequential_rnn_16mixtures_run1'], 4: ['../nov16_rescaled_inputs/trained_sequential_rnn_4mixtures_run5', '../nov16_rescaled_inputs/trained_sequential_rnn_4mixtures_run2', '../nov16_rescaled_inputs/trained_sequential_rnn_4mixtures_run3', '../nov16_rescaled_inputs/trained_sequential_rnn_4mixtures_run1', '../nov16_rescaled_inputs/trained_sequential_rnn_4mixtures_run4'], 8: ['../nov16_rescaled_inputs/trained_sequential_rnn_8mixtures_run3', '../nov16_rescaled_inputs/trained_sequential_rnn_8mixtures_run5', '../nov16_rescaled_inputs/trained_sequential_rnn_8mixtures_run2', '../nov16_rescaled_inputs/trained_sequential_rnn_8mixtures_run4', '../nov16_rescaled_inputs/trained_sequential_rnn_8mixtures_run1']}\n"
     ]
    }
   ],
   "source": [
    "import fnmatch\n",
    "UPPER_FOLDER = \"../nov16_rescaled_inputs/\" #../\"#\"../nov16_rescaled_inputs/\"#nov15_half_training_rate_skip5/\"#\"../nov14_half_training_rate_skip5/\" # \"../\"\n",
    "def get_all_models():\n",
    "    all_models = {} #Dict of all models, with num mixtures as key\n",
    "    for folder in os.listdir(UPPER_FOLDER):\n",
    "        \n",
    "        if fnmatch.fnmatch(folder, 'trained_sequential_rnn_*') :\n",
    "            mixtures_start_index = folder.find('rnn_')+4\n",
    "            mixtures_end_index = folder.find('mixtures')\n",
    "            num_mixtures = int(folder[mixtures_start_index:mixtures_end_index])\n",
    "            if num_mixtures in all_models.keys():\n",
    "                all_models[num_mixtures].append(UPPER_FOLDER+folder)\n",
    "            else:\n",
    "                all_models[num_mixtures] = [UPPER_FOLDER+folder]\n",
    "            \n",
    "    return all_models\n",
    "            \n",
    "print(get_all_models())"
   ]
  },
  {
   "cell_type": "code",
   "execution_count": 41,
   "metadata": {},
   "outputs": [
    {
     "name": "stdout",
     "output_type": "stream",
     "text": [
      "histories:  {2: ['../nov16_rescaled_inputs/trained_sequential_rnn_2mixtures_run5/training_history.h5', '../nov16_rescaled_inputs/trained_sequential_rnn_2mixtures_run3/training_history.h5', '../nov16_rescaled_inputs/trained_sequential_rnn_2mixtures_run2/training_history.h5', '../nov16_rescaled_inputs/trained_sequential_rnn_2mixtures_run4/training_history.h5', '../nov16_rescaled_inputs/trained_sequential_rnn_2mixtures_run1/training_history.h5'], 1: ['../nov16_rescaled_inputs/trained_sequential_rnn_1mixtures_run5/training_history.h5', '../nov16_rescaled_inputs/trained_sequential_rnn_1mixtures_run2/training_history.h5', '../nov16_rescaled_inputs/trained_sequential_rnn_1mixtures_run1/training_history.h5', '../nov16_rescaled_inputs/trained_sequential_rnn_1mixtures_run3/training_history.h5', '../nov16_rescaled_inputs/trained_sequential_rnn_1mixtures_run4/training_history.h5'], 16: ['../nov16_rescaled_inputs/trained_sequential_rnn_16mixtures_run4/training_history.h5', '../nov16_rescaled_inputs/trained_sequential_rnn_16mixtures_run2/training_history.h5', '../nov16_rescaled_inputs/trained_sequential_rnn_16mixtures_run5/training_history.h5', '../nov16_rescaled_inputs/trained_sequential_rnn_16mixtures_run3/training_history.h5', '../nov16_rescaled_inputs/trained_sequential_rnn_16mixtures_run1/training_history.h5'], 4: ['../nov16_rescaled_inputs/trained_sequential_rnn_4mixtures_run5/training_history.h5', '../nov16_rescaled_inputs/trained_sequential_rnn_4mixtures_run2/training_history.h5', '../nov16_rescaled_inputs/trained_sequential_rnn_4mixtures_run3/training_history.h5', '../nov16_rescaled_inputs/trained_sequential_rnn_4mixtures_run1/training_history.h5', '../nov16_rescaled_inputs/trained_sequential_rnn_4mixtures_run4/training_history.h5'], 8: ['../nov16_rescaled_inputs/trained_sequential_rnn_8mixtures_run3/training_history.h5', '../nov16_rescaled_inputs/trained_sequential_rnn_8mixtures_run5/training_history.h5', '../nov16_rescaled_inputs/trained_sequential_rnn_8mixtures_run2/training_history.h5', '../nov16_rescaled_inputs/trained_sequential_rnn_8mixtures_run4/training_history.h5', '../nov16_rescaled_inputs/trained_sequential_rnn_8mixtures_run1/training_history.h5']}\n"
     ]
    }
   ],
   "source": [
    "#Getting training history\n",
    "\n",
    "training_histories = {}\n",
    "filename = \"training_history.h5\"\n",
    "model_name = \"rnn_trained_model.h5\"\n",
    "for key, val in get_all_models().items():\n",
    "    training_histories[key] = []\n",
    "    for folder_name in val:\n",
    "        if model_name not in os.listdir(folder_name):\n",
    "            print(\"Unfinished run. Skipping.\")\n",
    "            continue\n",
    "        training_histories[key].append(folder_name+\"/\"+filename)\n",
    "\n",
    "print(\"histories: \", training_histories)"
   ]
  },
  {
   "cell_type": "code",
   "execution_count": 42,
   "metadata": {},
   "outputs": [
    {
     "name": "stdout",
     "output_type": "stream",
     "text": [
      "Any NaNs?\n",
      "False\n"
     ]
    }
   ],
   "source": [
    "import pickle\n",
    "loss_summary = []\n",
    "for num_mixtures, history_files in training_histories.items():\n",
    "    for history_file in history_files:\n",
    "        with open(history_file, 'rb') as file:\n",
    "            content=pickle.load(file)\n",
    "            content['num_mixtures'] = num_mixtures\n",
    "            loss_summary.append(content)\n",
    "#print(loss_summary)\n",
    "import pandas as pd\n",
    "l_frame = pd.DataFrame(loss_summary)\n",
    "print(\"Any NaNs?\")\n",
    "print(l_frame.isnull().values.any())\n",
    "#print([l['loss'] for l in loss_summary if l['num_mixtures'] == 8])"
   ]
  },
  {
   "cell_type": "code",
   "execution_count": 43,
   "metadata": {},
   "outputs": [
    {
     "data": {
      "text/plain": [
       "<matplotlib.legend.Legend at 0x7fd285430a90>"
      ]
     },
     "execution_count": 43,
     "metadata": {},
     "output_type": "execute_result"
    },
    {
     "data": {
      "image/png": "[encoded data removed]",
      "text/plain": [
       "<Figure size 432x288 with 1 Axes>"
      ]
     },
     "metadata": {},
     "output_type": "display_data"
    }
   ],
   "source": [
    "import matplotlib.pyplot as plt\n",
    "import seaborn as sns\n",
    "sns.set(style=\"darkgrid\")\n",
    "sns.tsplot([l['loss'] for l in loss_summary if l['num_mixtures'] == 1], ci='sd', color=\"red\", condition=\"1\")\n",
    "sns.tsplot([l['loss'] for l in loss_summary if l['num_mixtures'] == 2], color=\"green\", condition=\"2\")\n",
    "sns.tsplot([l['loss'] for l in loss_summary if l['num_mixtures'] == 4], color=\"blue\", condition=\"4\")\n",
    "sns.tsplot([l['loss'] for l in loss_summary if l['num_mixtures'] == 8], color=\"black\", condition=\"8\")\n",
    "sns.tsplot([l['loss'] for l in loss_summary if l['num_mixtures'] == 16], color=\"pink\", condition=\"16\")\n",
    "plt.legend()\n",
    "# It looks like there are no confidence intervals here, but I wonder if they are just\n",
    "# too narrow to be seen? Extremely stable behaviors."
   ]
  },
  {
   "cell_type": "code",
   "execution_count": null,
   "metadata": {},
   "outputs": [],
   "source": []
  },
  {
   "cell_type": "code",
   "execution_count": null,
   "metadata": {},
   "outputs": [],
   "source": []
  }
 ],
 "metadata": {
  "kernelspec": {
   "display_name": "world_models_cpu",
   "language": "python",
   "name": "world_models_cpu"
  },
  "language_info": {
   "codemirror_mode": {
    "name": "ipython",
    "version": 3
   },
   "file_extension": ".py",
   "mimetype": "text/x-python",
   "name": "python",
   "nbconvert_exporter": "python",
   "pygments_lexer": "ipython3",
   "version": "3.6.6"
  }
 },
 "nbformat": 4,
 "nbformat_minor": 2
}
