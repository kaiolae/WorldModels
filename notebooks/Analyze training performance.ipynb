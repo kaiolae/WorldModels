{
 "cells": [
  {
   "cell_type": "code",
   "execution_count": 1,
   "metadata": {},
   "outputs": [
    {
     "name": "stderr",
     "output_type": "stream",
     "text": [
      "Using TensorFlow backend.\n"
     ]
    },
    {
     "name": "stdout",
     "output_type": "stream",
     "text": [
      "/home/kaiolae/code/word_models_keras_test/WorldModels\n"
     ]
    }
   ],
   "source": [
    "import keras\n",
    "import tensorflow as tf\n",
    "\n",
    "tf_config = tf.ConfigProto()\n",
    "tf_config.gpu_options.allow_growth = True\n",
    "\n",
    "#Importing the VAE and RNN.\n",
    "import os\n",
    "import sys\n",
    "#Adding WorldModels path to pythonpath\n",
    "nb_dir = os.path.split(os.getcwd())[0]\n",
    "print(nb_dir)\n",
    "if nb_dir not in sys.path:\n",
    "    sys.path.append(nb_dir)"
   ]
  },
  {
   "cell_type": "code",
   "execution_count": null,
   "metadata": {},
   "outputs": [],
   "source": [
    "#If we want to auto-load and compare all subfolders, we do this. otherwise, see below.\n",
    "import fnmatch\n",
    "UPPER_FOLDER = \"../nov29_135_mixtures_early_stop_skip3/\" #../\"#\"../nov16_rescaled_inputs/\"#nov15_half_training_rate_skip5/\"#\"../nov14_half_training_rate_skip5/\" # \"../\"\n",
    "def get_all_models():\n",
    "    all_models = {} #Dict of all models, with num mixtures as key\n",
    "    for folder in os.listdir(UPPER_FOLDER):\n",
    "        \n",
    "        if fnmatch.fnmatch(folder, 'trained_sequential_rnn_*') :\n",
    "            mixtures_start_index = folder.find('rnn_')+4\n",
    "            mixtures_end_index = folder.find('mixtures')\n",
    "            num_mixtures = int(folder[mixtures_start_index:mixtures_end_index])\n",
    "            if num_mixtures in all_models.keys():\n",
    "                all_models[num_mixtures].append(UPPER_FOLDER+folder)\n",
    "            else:\n",
    "                all_models[num_mixtures] = [UPPER_FOLDER+folder]\n",
    "            \n",
    "    return all_models\n",
    "            \n",
    "print(get_all_models())"
   ]
  },
  {
   "cell_type": "code",
   "execution_count": 2,
   "metadata": {},
   "outputs": [
    {
     "name": "stdout",
     "output_type": "stream",
     "text": [
      "Folder without history file:  ../dec6_2000_episodes_gpu_both/trained_sequential_rnn_5mixtures_run3\n",
      "{'bigbatch': ['../dec14_bigbatch_1000epochs/trained_sequential_rnn_5mixtures_run2/training_history.h5', '../dec14_bigbatch_1000epochs/trained_sequential_rnn_5mixtures_run3/training_history.h5', '../dec14_bigbatch_1000epochs/trained_sequential_rnn_5mixtures_run5/training_history.h5', '../dec14_bigbatch_1000epochs/trained_sequential_rnn_5mixtures_run4/training_history.h5', '../dec14_bigbatch_1000epochs/trained_sequential_rnn_5mixtures_run1/training_history.h5'], 'smallbatch': ['../dec6_2000_episodes_gpu_both/trained_sequential_rnn_5mixtures_run2/training_history.h5', '../dec6_2000_episodes_gpu_both/trained_sequential_rnn_5mixtures_run8/training_history.h5', '../dec6_2000_episodes_gpu_both/trained_sequential_rnn_5mixtures_run9/training_history.h5', '../dec6_2000_episodes_gpu_both/trained_sequential_rnn_5mixtures_run7/training_history.h5', '../dec6_2000_episodes_gpu_both/trained_sequential_rnn_5mixtures_run6/training_history.h5', '../dec6_2000_episodes_gpu_both/trained_sequential_rnn_5mixtures_run5/training_history.h5', '../dec6_2000_episodes_gpu_both/trained_sequential_rnn_5mixtures_run10/training_history.h5', '../dec6_2000_episodes_gpu_both/trained_sequential_rnn_5mixtures_run4/training_history.h5', '../dec6_2000_episodes_gpu_both/trained_sequential_rnn_5mixtures_run1/training_history.h5']}\n"
     ]
    }
   ],
   "source": [
    "import fnmatch\n",
    "def get_histories(upper_folder, lower_folder_name=None):\n",
    "    all_models = [] #Dict of all models, with num mixtures as key\n",
    "    for folder in os.listdir(upper_folder):  \n",
    "        if fnmatch.fnmatch(folder, lower_folder_name):\n",
    "            history_file = upper_folder+folder+\"/training_history.h5\"\n",
    "            if os.path.isfile(history_file):\n",
    "                #Fails if the run ended early due to NaNs\n",
    "                all_models.append(history_file)          \n",
    "            else:\n",
    "                print(\"Folder without history file: \", upper_folder+folder)\n",
    "    return all_models\n",
    "            \n",
    "\n",
    "#Defining which folders to load.\n",
    "folder_names_and_paths = {\"bigbatch\": \"../dec14_bigbatch_1000epochs/\",\n",
    "                         \"smallbatch\": \"../dec6_2000_episodes_gpu_both/\"}\n",
    "\n",
    "training_histories = {}\n",
    "for key, val in folder_names_and_paths.items():\n",
    "    histories = get_histories(val, \"trained_sequential_rnn_5*\")\n",
    "    training_histories[key] = histories\n",
    "    \n",
    "print(training_histories)"
   ]
  },
  {
   "cell_type": "code",
   "execution_count": 4,
   "metadata": {},
   "outputs": [
    {
     "name": "stdout",
     "output_type": "stream",
     "text": [
      "Any NaNs?\n",
      "False\n"
     ]
    }
   ],
   "source": [
    "#Note: with early stopping, the total number of epochs varies.\n",
    "#How do we plot loss then?\n",
    "import pickle\n",
    "loss_summary = []\n",
    "max_length = 0\n",
    "for treatment_name, history_files in training_histories.items():\n",
    "    for history_file in history_files:\n",
    "        with open(history_file, 'rb') as file:\n",
    "            content=pickle.load(file)\n",
    "            content['treatment'] = treatment_name\n",
    "            loss_summary.append(content)\n",
    "            if len(content['loss']) > max_length:\n",
    "                max_length = len(content['loss'])\n",
    "#print(loss_summary)\n",
    "import pandas as pd\n",
    "l_frame = pd.DataFrame(loss_summary)\n",
    "print(\"Any NaNs?\")\n",
    "print(l_frame.isnull().values.any())"
   ]
  },
  {
   "cell_type": "code",
   "execution_count": 5,
   "metadata": {},
   "outputs": [
    {
     "ename": "AttributeError",
     "evalue": "'str' object has no attribute 'append'",
     "output_type": "error",
     "traceback": [
      "\u001b[0;31m---------------------------------------------------------------------------\u001b[0m",
      "\u001b[0;31mAttributeError\u001b[0m                            Traceback (most recent call last)",
      "\u001b[0;32m<ipython-input-5-aee92b643530>\u001b[0m in \u001b[0;36m<module>\u001b[0;34m\u001b[0m\n\u001b[1;32m     12\u001b[0m             \u001b[0mextended_list\u001b[0m \u001b[0;34m=\u001b[0m \u001b[0mval\u001b[0m\u001b[0;34m\u001b[0m\u001b[0;34m\u001b[0m\u001b[0m\n\u001b[1;32m     13\u001b[0m             \u001b[0;32mwhile\u001b[0m\u001b[0;34m(\u001b[0m\u001b[0mlen\u001b[0m\u001b[0;34m(\u001b[0m\u001b[0mextended_list\u001b[0m\u001b[0;34m)\u001b[0m \u001b[0;34m<\u001b[0m \u001b[0mmax_length\u001b[0m\u001b[0;34m)\u001b[0m\u001b[0;34m:\u001b[0m\u001b[0;34m\u001b[0m\u001b[0;34m\u001b[0m\u001b[0m\n\u001b[0;32m---> 14\u001b[0;31m                 \u001b[0mextended_list\u001b[0m\u001b[0;34m.\u001b[0m\u001b[0mappend\u001b[0m\u001b[0;34m(\u001b[0m\u001b[0mextended_list\u001b[0m\u001b[0;34m[\u001b[0m\u001b[0;34m-\u001b[0m\u001b[0;36m1\u001b[0m\u001b[0;34m]\u001b[0m\u001b[0;34m)\u001b[0m\u001b[0;34m\u001b[0m\u001b[0;34m\u001b[0m\u001b[0m\n\u001b[0m\u001b[1;32m     15\u001b[0m             \u001b[0mcurrent_solution\u001b[0m\u001b[0;34m[\u001b[0m\u001b[0mkey\u001b[0m\u001b[0;34m]\u001b[0m \u001b[0;34m=\u001b[0m \u001b[0mextended_list\u001b[0m\u001b[0;34m\u001b[0m\u001b[0;34m\u001b[0m\u001b[0m\n\u001b[1;32m     16\u001b[0m     \u001b[0mextended_loss_summary\u001b[0m\u001b[0;34m.\u001b[0m\u001b[0mappend\u001b[0m\u001b[0;34m(\u001b[0m\u001b[0mcurrent_solution\u001b[0m\u001b[0;34m)\u001b[0m\u001b[0;34m\u001b[0m\u001b[0;34m\u001b[0m\u001b[0m\n",
      "\u001b[0;31mAttributeError\u001b[0m: 'str' object has no attribute 'append'"
     ]
    }
   ],
   "source": [
    "#Adjusting the loss lists so all have same length. That way, we can\n",
    "#Plot the variance between them.\n",
    "#TODO Not sure what is the best method here. I will try to just \n",
    "#append final loss values to all to make them same length.\n",
    "extended_loss_summary = []\n",
    "for l in loss_summary:\n",
    "    current_solution={}\n",
    "    for key, val in l.items():\n",
    "        if key==\"num_mixtures\":\n",
    "            current_solution[key] = val\n",
    "        else:\n",
    "            extended_list = val\n",
    "            while(len(extended_list) < max_length):\n",
    "                extended_list.append(extended_list[-1])\n",
    "            current_solution[key] = extended_list\n",
    "    extended_loss_summary.append(current_solution)\n",
    "print(extended_loss_summary)\n",
    "loss_summary = extended_loss_summary\n",
    "    "
   ]
  },
  {
   "cell_type": "code",
   "execution_count": 7,
   "metadata": {},
   "outputs": [
    {
     "data": {
      "text/plain": [
       "<matplotlib.axes._subplots.AxesSubplot at 0x7f47a80c3518>"
      ]
     },
     "execution_count": 7,
     "metadata": {},
     "output_type": "execute_result"
    },
    {
     "data": {
      "image/png": "[encoded data removed]",
      "text/plain": [
       "<Figure size 432x288 with 1 Axes>"
      ]
     },
     "metadata": {},
     "output_type": "display_data"
    }
   ],
   "source": [
    "import matplotlib.pyplot as plt\n",
    "import seaborn as sns\n",
    "sns.set(style=\"darkgrid\")\n",
    "sns.tsplot([l['loss'] for l in loss_summary if l['treatment'] == \"bigbatch\"], color=\"red\", condition=\"bigbatch\")\n",
    "sns.tsplot([l['loss'] for l in loss_summary if l['treatment'] == \"smallbatch\"], color=\"green\", condition=\"smallbatch\")"
   ]
  },
  {
   "cell_type": "code",
   "execution_count": null,
   "metadata": {},
   "outputs": [],
   "source": [
    "import matplotlib.pyplot as plt\n",
    "import seaborn as sns\n",
    "sns.set(style=\"darkgrid\")\n",
    "sns.tsplot([l['loss'] for l in loss_summary if l['num_mixtures'] == 1], color=\"red\", condition=\"1\")\n",
    "sns.tsplot([l['loss'] for l in loss_summary if l['num_mixtures'] == 3], color=\"green\", condition=\"3\")\n",
    "sns.tsplot([l['loss'] for l in loss_summary if l['num_mixtures'] == 5], color=\"blue\", condition=\"5\")\n",
    "#sns.tsplot([l['loss'] for l in loss_summary if l['num_mixtures'] == 8], color=\"black\", condition=\"8\")\n",
    "#sns.tsplot([l['loss'] for l in loss_summary if l['num_mixtures'] == 16], color=\"pink\", condition=\"16\")\n",
    "plt.legend()\n",
    "# It looks like there are no confidence intervals here, but I wonder if they are just\n",
    "# too narrow to be seen? Extremely stable behaviors."
   ]
  },
  {
   "cell_type": "code",
   "execution_count": null,
   "metadata": {},
   "outputs": [],
   "source": [
    "import matplotlib.pyplot as plt\n",
    "import seaborn as sns\n",
    "sns.set(style=\"darkgrid\")\n",
    "sns.tsplot([l['val_loss'] for l in loss_summary if l['num_mixtures'] == 1], ci='sd', color=\"red\", condition=\"1\")\n",
    "sns.tsplot([l['val_loss'] for l in loss_summary if l['num_mixtures'] == 3], color=\"green\", condition=\"3\")\n",
    "sns.tsplot([l['val_loss'] for l in loss_summary if l['num_mixtures'] == 5], color=\"blue\", condition=\"5\")\n",
    "#sns.tsplot([l['val_loss'] for l in loss_summary if l['num_mixtures'] == 8], color=\"black\", condition=\"8\")\n",
    "#sns.tsplot([l['val_loss'] for l in loss_summary if l['num_mixtures'] == 16], color=\"pink\", condition=\"16\")\n",
    "plt.legend()\n",
    "# It looks like there are no confidence intervals here, but I wonder if they are just\n",
    "# too narrow to be seen? Extremely stable behaviors."
   ]
  },
  {
   "cell_type": "code",
   "execution_count": null,
   "metadata": {},
   "outputs": [],
   "source": []
  }
 ],
 "metadata": {
  "kernelspec": {
   "display_name": "world_models_cpu",
   "language": "python",
   "name": "world_models_cpu"
  },
  "language_info": {
   "codemirror_mode": {
    "name": "ipython",
    "version": 3
   },
   "file_extension": ".py",
   "mimetype": "text/x-python",
   "name": "python",
   "nbconvert_exporter": "python",
   "pygments_lexer": "ipython3",
   "version": "3.6.6"
  }
 },
 "nbformat": 4,
 "nbformat_minor": 2
}
